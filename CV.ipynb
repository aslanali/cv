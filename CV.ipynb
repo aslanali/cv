{
 "cells": [
  {
   "cell_type": "code",
   "execution_count": 5,
   "id": "e6526659",
   "metadata": {},
   "outputs": [
    {
     "data": {
      "text/markdown": [
       "# Syed Aslan Ali - Interactive CV"
      ],
      "text/plain": [
       "<IPython.core.display.Markdown object>"
      ]
     },
     "metadata": {},
     "output_type": "display_data"
    },
    {
     "data": {
      "text/markdown": [
       "\n",
       "**Location**: Bangalore, India  \n",
       "**Role**: Software Engineer, Freelance Developer  \n",
       "**Industry Experience**: Automotive, Embedded Systems, Data Science  \n",
       "**Education**: \n",
       "- **PG Diploma** in Data Science, IIIT Bangalore  \n",
       "- **B.E.** in Electronics and Communication, Nagpur University  \n"
      ],
      "text/plain": [
       "<IPython.core.display.Markdown object>"
      ]
     },
     "metadata": {},
     "output_type": "display_data"
    },
    {
     "data": {
      "text/markdown": [
       "\n",
       "## Contact Information\n",
       "- **GitHub**: [https://github.com/aslanali](https://github.com/aslanali)\n",
       "- **LinkedIn**: [https://www.linkedin.com/in/syedaslanali/](https://www.linkedin.com/in/syedaslanali/)\n"
      ],
      "text/plain": [
       "<IPython.core.display.Markdown object>"
      ]
     },
     "metadata": {},
     "output_type": "display_data"
    },
    {
     "data": {
      "text/markdown": [
       "\n",
       "## Work Experience\n",
       "### Previous Positions\n",
       "- **ARM Embedded Technologies**  \n",
       "  - Worked on embedded systems for processor architecture.\n",
       "  - Involved in continuous integration and delivery (CI/CD) using Jenkins.\n",
       "  - Developed scripts in Python, Groovy, and Shell for automation and testing.\n",
       "  - Contributed to debugging and resolving system issues in embedded environments.\n",
       "\n",
       "### Project Management\n",
       "- Currently managing a project with team sub-divisions focused on pseudocode for processor architecture.\n",
       "  - Responsibilities include debugging Jenkins CI nightly fails, managing CI for the team, providing builds, and reporting issues.\n",
       "  - Coordinating with sub-teams on pseudocode instructions, registers, and test validations.\n",
       "\n"
      ],
      "text/plain": [
       "<IPython.core.display.Markdown object>"
      ]
     },
     "metadata": {},
     "output_type": "display_data"
    },
    {
     "data": {
      "text/markdown": [
       "\n",
       "## GitHub Repositories\n",
       "Below is a summary of my most popular GitHub projects.\n"
      ],
      "text/plain": [
       "<IPython.core.display.Markdown object>"
      ]
     },
     "metadata": {},
     "output_type": "display_data"
    },
    {
     "data": {
      "text/markdown": [
       "### Repositories"
      ],
      "text/plain": [
       "<IPython.core.display.Markdown object>"
      ]
     },
     "metadata": {},
     "output_type": "display_data"
    },
    {
     "data": {
      "text/markdown": [
       "- **[aslanali](https://github.com/aslanali/aslanali)** - Config files for my GitHub profile. (⭐️ 0 stars)"
      ],
      "text/plain": [
       "<IPython.core.display.Markdown object>"
      ]
     },
     "metadata": {},
     "output_type": "display_data"
    },
    {
     "data": {
      "text/markdown": [
       "- **[cv](https://github.com/aslanali/cv)** - None (⭐️ 0 stars)"
      ],
      "text/plain": [
       "<IPython.core.display.Markdown object>"
      ]
     },
     "metadata": {},
     "output_type": "display_data"
    },
    {
     "data": {
      "text/markdown": [
       "- **[flask_test](https://github.com/aslanali/flask_test)** - None (⭐️ 0 stars)"
      ],
      "text/plain": [
       "<IPython.core.display.Markdown object>"
      ]
     },
     "metadata": {},
     "output_type": "display_data"
    },
    {
     "data": {
      "text/markdown": [
       "- **[news-research-tool](https://github.com/aslanali/news-research-tool)** - A Streamlit-based news research tool that extracts named entities (NER) from news articles, stores embeddings in FAISS, and allows users to query the content with OpenAI-powered models. (⭐️ 0 stars)"
      ],
      "text/plain": [
       "<IPython.core.display.Markdown object>"
      ]
     },
     "metadata": {},
     "output_type": "display_data"
    },
    {
     "data": {
      "text/markdown": [
       "- **[object-detection](https://github.com/aslanali/object-detection)** - first repo on object detection (⭐️ 0 stars)"
      ],
      "text/plain": [
       "<IPython.core.display.Markdown object>"
      ]
     },
     "metadata": {},
     "output_type": "display_data"
    },
    {
     "data": {
      "text/markdown": [
       "- **[PyCalculator](https://github.com/aslanali/PyCalculator)** - This is a basic calculator designed in python along with basic unit/functional tests  (⭐️ 0 stars)"
      ],
      "text/plain": [
       "<IPython.core.display.Markdown object>"
      ]
     },
     "metadata": {},
     "output_type": "display_data"
    },
    {
     "data": {
      "text/markdown": [
       "- **[Udacity_MachineLearning](https://github.com/aslanali/Udacity_MachineLearning)** - All the projects related to course are put up here (⭐️ 0 stars)"
      ],
      "text/plain": [
       "<IPython.core.display.Markdown object>"
      ]
     },
     "metadata": {},
     "output_type": "display_data"
    },
    {
     "data": {
      "text/markdown": [
       "\n",
       "## Technical Skills\n",
       "- **Programming Languages**: Python, C, Shell Scripting\n",
       "- **Tools & Technologies**: Jenkins, Git, CI/CD, Raspberry Pi, Linux\n",
       "- **Soft Skills**: Project Management, Problem Solving, Communication\n",
       "\n",
       "### Hobbies & Personal Projects\n",
       "\n",
       "- **Python Programming, Linux Systems, and Microcontrollers**\n",
       "  - Passionate about developing tech projects, including programming, debugging, and exploring Linux.\n",
       "  - **Highlighted Project**: Built a home temperature monitor using Raspberry Pi and integrated it with Thingspeak for remote monitoring.\n",
       "  - Regularly experiment with Raspberry Pi and other microcontroller-based projects to learn and apply new technologies.\n",
       "\n"
      ],
      "text/plain": [
       "<IPython.core.display.Markdown object>"
      ]
     },
     "metadata": {},
     "output_type": "display_data"
    }
   ],
   "source": [
    "# CV.ipynb - Interactive CV Notebook for Syed Aslan Ali\n",
    "# ------------------------------------------------------\n",
    "\n",
    "# Import necessary libraries\n",
    "import requests\n",
    "from IPython.display import Markdown, display\n",
    "\n",
    "# Basic Info Section\n",
    "display(Markdown(\"# Syed Aslan Ali - Interactive CV\"))\n",
    "display(Markdown(\"\"\"\n",
    "**Location**: Bangalore, India  \n",
    "**Role**: Software Engineer, Freelance Developer  \n",
    "**Industry Experience**: Automotive, Embedded Systems, Data Science  \n",
    "**Education**: \n",
    "- **PG Diploma** in Data Science, IIIT Bangalore  \n",
    "- **B.E.** in Electronics and Communication, Nagpur University  \n",
    "\"\"\"))\n",
    "\n",
    "# Contact Info Section\n",
    "display(Markdown(\"\"\"\n",
    "## Contact Information\n",
    "- **GitHub**: [https://github.com/aslanali](https://github.com/aslanali)\n",
    "- **LinkedIn**: [https://www.linkedin.com/in/syedaslanali/](https://www.linkedin.com/in/syedaslanali/)\n",
    "\"\"\"))\n",
    "\n",
    "# Experience Section\n",
    "display(Markdown(\"\"\"\n",
    "## Work Experience\n",
    "### Previous Positions\n",
    "- **ARM Embedded Technologies**  \n",
    "  - Worked on embedded systems for processor architecture.\n",
    "  - Involved in continuous integration and delivery (CI/CD) using Jenkins.\n",
    "  - Developed scripts in Python, Groovy, and Shell for automation and testing.\n",
    "  - Contributed to debugging and resolving system issues in embedded environments.\n",
    "\n",
    "### Project Management\n",
    "- Currently managing a project with team sub-divisions focused on pseudocode for processor architecture.\n",
    "  - Responsibilities include debugging Jenkins CI nightly fails, managing CI for the team, providing builds, and reporting issues.\n",
    "  - Coordinating with sub-teams on pseudocode instructions, registers, and test validations.\n",
    "\n",
    "\"\"\"))\n",
    "\n",
    "# Summary of GitHub Repositories\n",
    "display(Markdown(\"\"\"\n",
    "## GitHub Repositories\n",
    "Below is a summary of my most popular GitHub projects.\n",
    "\"\"\"))\n",
    "\n",
    "# GitHub API request to fetch user repositories\n",
    "def fetch_github_repos(username=\"yourusername\"):\n",
    "    url = f\"https://api.github.com/users/{username}/repos\"\n",
    "    response = requests.get(url)\n",
    "    repos = response.json()\n",
    "    \n",
    "    if response.status_code == 200:\n",
    "        return [(repo['name'], repo['html_url'], repo['description'], repo['stargazers_count']) for repo in repos]\n",
    "    else:\n",
    "        return None\n",
    "\n",
    "# Display GitHub repos\n",
    "username = \"aslanali\"  # Replace with your GitHub username\n",
    "repos = fetch_github_repos(username)\n",
    "\n",
    "if repos:\n",
    "    display(Markdown(\"### Repositories\"))\n",
    "    for name, url, description, stars in repos:\n",
    "        display(Markdown(f\"- **[{name}]({url})** - {description} (⭐️ {stars} stars)\"))\n",
    "else:\n",
    "    display(Markdown(\"Unable to fetch GitHub repositories.\"))\n",
    "\n",
    "# Skills Section\n",
    "display(Markdown(\"\"\"\n",
    "## Technical Skills\n",
    "- **Programming Languages**: Python, C, Shell Scripting\n",
    "- **Tools & Technologies**: Jenkins, Git, CI/CD, Raspberry Pi, Linux\n",
    "- **Soft Skills**: Project Management, Problem Solving, Communication\n",
    "\n",
    "### Hobbies & Personal Projects\n",
    "\n",
    "- **Python Programming, Linux Systems, and Microcontrollers**\n",
    "  - Passionate about developing tech projects, including programming, debugging, and exploring Linux.\n",
    "  - **Highlighted Project**: Built a home temperature monitor using Raspberry Pi and integrated it with Thingspeak for remote monitoring.\n",
    "  - Regularly experiment with Raspberry Pi and other microcontroller-based projects to learn and apply new technologies.\n",
    "\n",
    "\"\"\"))\n"
   ]
  }
 ],
 "metadata": {
  "kernelspec": {
   "display_name": "Python 3 (ipykernel)",
   "language": "python",
   "name": "python3"
  },
  "language_info": {
   "codemirror_mode": {
    "name": "ipython",
    "version": 3
   },
   "file_extension": ".py",
   "mimetype": "text/x-python",
   "name": "python",
   "nbconvert_exporter": "python",
   "pygments_lexer": "ipython3",
   "version": "3.11.3"
  }
 },
 "nbformat": 4,
 "nbformat_minor": 5
}
