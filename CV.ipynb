# CV.ipynb - Interactive CV Notebook for Syed Aslan Ali
# ------------------------------------------------------

# Import necessary libraries
import requests
from IPython.display import Markdown, display

# Basic Info Section
display(Markdown("# Syed Aslan Ali - Interactive CV"))
display(Markdown("""
**Location**: Bangalore, India  
**Role**: Software Engineer, Freelance Developer  
**Industry Experience**: Automotive, Embedded Systems, Data Science  
**Education**: 
- **PG Diploma** in Data Science, IIIT Bangalore  
- **B.E.** in Electronics and Communication, Nagpur University  
"""))

# Contact Info Section
display(Markdown("""
## Contact Information
- **Email**: [your.email@example.com](mailto:your.email@example.com)
- **GitHub**: [https://github.com/yourusername](https://github.com/yourusername)
- **LinkedIn**: [https://www.linkedin.com/in/yourprofile/](https://www.linkedin.com/in/yourprofile/)
"""))

# Experience Section
display(Markdown("""
## Work Experience
### Freelance Developer
- **Responsibilities**: Python programming, debugging, Linux systems, and microcontrollers.
- **Highlights**: Created a home temperature monitor with Raspberry Pi and Thingspeak.
  
### Previous Positions
- **ARM Embedded Technologies, Bosch India Ltd., Azventa Technologies, Hella Automotive**  
- Focused on embedded systems, CI/CD (Jenkins), Python, Groovy, and shell scripting.  

### Project Management
- Currently managing a project with team sub-divisions focused on pseudocode for processor architecture.
- Responsibilities: Debugging Jenkins CI nightly fails, managing CI for the team, providing builds, reporting issues.
"""))

# Summary of GitHub Repositories
display(Markdown("""
## GitHub Repositories
Below is a summary of my most popular GitHub projects.
"""))

# GitHub API request to fetch user repositories
def fetch_github_repos(username="yourusername"):
    url = f"https://api.github.com/users/{username}/repos"
    response = requests.get(url)
    repos = response.json()
    
    if response.status_code == 200:
        return [(repo['name'], repo['html_url'], repo['description'], repo['stargazers_count']) for repo in repos]
    else:
        return None

# Display GitHub repos
username = "yourusername"  # Replace with your GitHub username
repos = fetch_github_repos(username)

if repos:
    display(Markdown("### Repositories"))
    for name, url, description, stars in repos:
        display(Markdown(f"- **[{name}]({url})** - {description} (⭐️ {stars} stars)"))
else:
    display(Markdown("Unable to fetch GitHub repositories."))

# Skills Section
display(Markdown("""
## Technical Skills
- **Programming Languages**: Python, C, Shell Scripting
- **Tools & Technologies**: Jenkins, Git, CI/CD, Raspberry Pi, Linux
- **Soft Skills**: Project Management, Problem Solving, Communication
"""))
